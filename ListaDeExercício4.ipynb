{
  "nbformat": 4,
  "nbformat_minor": 0,
  "metadata": {
    "colab": {
      "provenance": [],
      "authorship_tag": "ABX9TyN7oFNy6gWTLHZyf2V6TMih",
      "include_colab_link": true
    },
    "kernelspec": {
      "name": "python3",
      "display_name": "Python 3"
    },
    "language_info": {
      "name": "python"
    }
  },
  "cells": [
    {
      "cell_type": "markdown",
      "metadata": {
        "id": "view-in-github",
        "colab_type": "text"
      },
      "source": [
        "<a href=\"https://colab.research.google.com/github/GabrielPonzoni/projetos_py/blob/lista-exercicios-4/ListaDeExerc%C3%ADcio4.ipynb\" target=\"_parent\"><img src=\"https://colab.research.google.com/assets/colab-badge.svg\" alt=\"Open In Colab\"/></a>"
      ]
    },
    {
      "cell_type": "code",
      "execution_count": null,
      "metadata": {
        "colab": {
          "base_uri": "https://localhost:8080/"
        },
        "id": "iV8Lr8ChO7Ym",
        "outputId": "c3d3325f-fd35-4fb4-dcb5-e8605cfec240"
      },
      "outputs": [
        {
          "output_type": "stream",
          "name": "stdout",
          "text": [
            "Informe a quantidade de \"n\" primeiros números naturais: 10\n",
            "0\n",
            "1\n",
            "2\n",
            "3\n",
            "4\n",
            "5\n",
            "6\n",
            "7\n",
            "8\n",
            "9\n",
            "-=--=--=--=--=--=--=--=--=--=-\n",
            "0\n",
            "1\n",
            "2\n",
            "3\n",
            "4\n",
            "5\n",
            "6\n",
            "7\n",
            "8\n",
            "9\n"
          ]
        }
      ],
      "source": [
        "#1.Desenvolva um programa que imprima na tela uma sequência com os “n” primeiros números\n",
        "#naturais. Peça para o usuário informar o valor de “n” antes de gerar a sequência. Utilize tanto uma\n",
        "#estrutura contada quanto condicional\n",
        "\n",
        "#metodo estrutura contada\n",
        "n = int(input('Informe a quantidade de \"n\" primeiros números naturais: ')) \n",
        "for i in range(0,n):\n",
        "  print(i)\n",
        "\n",
        "print('-=-' * 10)\n",
        "\n",
        "i = 0\n",
        "#metodo condicional\n",
        "while i < n:\n",
        "  print(i)\n",
        "  i += 1"
      ]
    },
    {
      "cell_type": "code",
      "source": [
        "#@title Exercício 2\n",
        "#2. Desenvolva um programa que imprima na tela uma sequência com os “n” primeiros números\n",
        "#naturais pares. Peça para o usuário informar o valor de “n” antes de gerar a sequência. Utilize\n",
        "#tanto uma estrutura contada quanto condicional\n",
        "\n",
        "#metodo estrutura contada\n",
        "\n",
        "print('-=-' * 30)\n",
        "n = int(input('Informe a quantidade de números PRIMOS naturais que você deseja mostrar na tela: '))\n",
        "print('-=-' * 30)\n",
        "\n",
        "print('Laço com estrutura contada: FOR\\n')\n",
        "\n",
        "count = 1 #contador para quantidade de repetições impressas\n",
        "for i in range(2,((n * 2) + 2)): #((n * 2) + 2) é o número final do laço;\n",
        "  if (i % 2 == 0):\n",
        "    print(f\"{count}º número IMPAR natural:\",i)\n",
        "    count += 1\n",
        "\n",
        "#metodo estrutura condicional\n",
        "\n",
        "print('-=-' * 15)\n",
        "print('Laço com estrutura condicional: WHILE\\n')\n",
        "count = 1 #contador para quantidade de repetições impressas \n",
        "i = 2\n",
        "'''\n",
        "Ao contrário do for, o while utiliza-se de condição para sair do laço \n",
        "de repetição ele faz algo enquanto for verdadeiro, quando for falso ele \n",
        "para por isso colocamos uma varíavel i contadora pra gerar uma condição false \n",
        "e sair do laço \n",
        "'''\n",
        "while i < ((n * 2) + 1): \n",
        "  if (i % 2 == 0):\n",
        "    print(f\"{count}º número PRIMO natural:\",i)\n",
        "    count += 1\n",
        "i += 1\n",
        "\n",
        "print('-=-' * 15)"
      ],
      "metadata": {
        "colab": {
          "base_uri": "https://localhost:8080/"
        },
        "id": "gCLD2xwGVgZ_",
        "outputId": "862ef500-5776-4bda-c889-82cc7d18f77d"
      },
      "execution_count": null,
      "outputs": [
        {
          "output_type": "stream",
          "name": "stdout",
          "text": [
            "-=--=--=--=--=--=--=--=--=--=--=--=--=--=--=--=--=--=--=--=--=--=--=--=--=--=--=--=--=--=-\n",
            "Informe a quantidade de números primos naturais que você deseja mostrar na tela: 10\n",
            "-=--=--=--=--=--=--=--=--=--=--=--=--=--=--=--=--=--=--=--=--=--=--=--=--=--=--=--=--=--=-\n",
            "Laço com estrutura contada: FOR\n",
            "\n",
            "1º número primo natural: 2\n",
            "2º número primo natural: 4\n",
            "3º número primo natural: 6\n",
            "4º número primo natural: 8\n",
            "5º número primo natural: 10\n",
            "6º número primo natural: 12\n",
            "7º número primo natural: 14\n",
            "8º número primo natural: 16\n",
            "9º número primo natural: 18\n",
            "10º número primo natural: 20\n",
            "-=--=--=--=--=--=--=--=--=--=--=--=--=--=--=-\n",
            "Laço com estrutura condicional: WHILE\n",
            "\n",
            "1º número primo natural: 2\n",
            "2º número primo natural: 4\n",
            "3º número primo natural: 6\n",
            "4º número primo natural: 8\n",
            "5º número primo natural: 10\n",
            "6º número primo natural: 12\n",
            "7º número primo natural: 14\n",
            "8º número primo natural: 16\n",
            "9º número primo natural: 18\n",
            "10º número primo natural: 20\n",
            "-=--=--=--=--=--=--=--=--=--=--=--=--=--=--=-\n"
          ]
        }
      ]
    },
    {
      "cell_type": "code",
      "source": [
        "#@title Exercício 3\n",
        "#3. Desenvolva um programa que imprima na tela uma sequência com os “n” primeiros números\n",
        "#naturais ímpares. Peça para o usuário informar o valor de “n” antes de gerar a sequência. Utilize\n",
        "#tanto uma estrutura contada quanto condicional\n",
        "\n",
        "#metodo estrutura contada\n",
        "\n",
        "print('-=-' * 30)\n",
        "n = int(input('Informe a quantidade de números ÍMPARES naturais que você deseja mostrar na tela: ')) \n",
        "print('-=-' * 30)\n",
        "\n",
        "print('Laço com estrutura contada: FOR\\n')\n",
        "count = 1 #contador para quantidade de repetições impressas\n",
        "for i in range(1,n * 2): #Nesse caso n precisamos incrementar +2 no final pois o último número não é 20 e sim 19\n",
        "  if i%2 == 1: #verifica se tem resto \n",
        "    print(f\"{count}º número ÍMPAR natural:\",i)    \n",
        "    count += 1\n",
        "\n",
        "#metodo estrutura condicional\n",
        "\n",
        "print('-=-' * 15)\n",
        "print('Laço com estrutura condicional: WHILE\\n')\n",
        "\n",
        "count = 1 #contador para quantidade de repetições impressas\n",
        "i = 0 #na condicional precisamos definir o valor INICIAL \n",
        "while i < n * 2:\n",
        "  if i%2 == 1:\n",
        "    print(f\"{count}º número ÍMPAR natural:\",i)\n",
        "    count += 1\n",
        "  i += 1 \n",
        "\n",
        "'''\n",
        "repare pois o contador fica fora do if pois precisamos que ele faça toda vez \n",
        "o incremento de 1 em 1, não somente quando o número for ímpar!\n",
        "'''\n",
        "print('-=-' * 15)"
      ],
      "metadata": {
        "colab": {
          "base_uri": "https://localhost:8080/"
        },
        "id": "m_FnwEB7XTBK",
        "outputId": "8892395d-0dec-4d45-899f-7cac8b6620b5"
      },
      "execution_count": null,
      "outputs": [
        {
          "output_type": "stream",
          "name": "stdout",
          "text": [
            "-=--=--=--=--=--=--=--=--=--=--=--=--=--=--=--=--=--=--=--=--=--=--=--=--=--=--=--=--=--=-\n",
            "Informe a quantidade de números ÍMPARES naturais que você deseja mostrar na tela: 10\n",
            "-=--=--=--=--=--=--=--=--=--=--=--=--=--=--=--=--=--=--=--=--=--=--=--=--=--=--=--=--=--=-\n",
            "Laço com estrutura contada: FOR\n",
            "\n",
            "1º número ÍMPAR natural: 1\n",
            "2º número ÍMPAR natural: 3\n",
            "3º número ÍMPAR natural: 5\n",
            "4º número ÍMPAR natural: 7\n",
            "5º número ÍMPAR natural: 9\n",
            "6º número ÍMPAR natural: 11\n",
            "7º número ÍMPAR natural: 13\n",
            "8º número ÍMPAR natural: 15\n",
            "9º número ÍMPAR natural: 17\n",
            "10º número ÍMPAR natural: 19\n",
            "-=--=--=--=--=--=--=--=--=--=--=--=--=--=--=-\n",
            "Laço com estrutura condicional: WHILE\n",
            "\n",
            "1º número ÍMPAR natural: 1\n",
            "2º número ÍMPAR natural: 3\n",
            "3º número ÍMPAR natural: 5\n",
            "4º número ÍMPAR natural: 7\n",
            "5º número ÍMPAR natural: 9\n",
            "6º número ÍMPAR natural: 11\n",
            "7º número ÍMPAR natural: 13\n",
            "8º número ÍMPAR natural: 15\n",
            "9º número ÍMPAR natural: 17\n",
            "10º número ÍMPAR natural: 19\n",
            "-=--=--=--=--=--=--=--=--=--=--=--=--=--=--=--=--=--=--=--=--=--=--=--=--=--=--=--=--=--=-\n"
          ]
        }
      ]
    },
    {
      "cell_type": "code",
      "source": [
        "#@title Exercício 4\n",
        "#4. Desenvolva um programa que solicite um número inteiro “n” e imprima na tela o seu fatorial.\n",
        "#Fatorial é o produto dos números inteiros consecutivos de 1 até um dado inteiro “n”. Utilize tanto\n",
        "#uma estrutura contada quanto condicional\n",
        "\n",
        "#estrutura contada\n",
        "print('-=-' * 30)\n",
        "n = int(input('Informe um número INTEIRO para extrairmos seu fatorial: '))\n",
        "print('-=-' * 30)\n",
        "fatorial = 1 #recebe 1 pois é convenção ele nunca vai ser 0\n",
        "for i in range(0,n + 1): #se colocar 0 fatorial vai valer 0 dai todo resultado vai dar 0 não funciona! \n",
        "  fatorial *= i #=_____ ((f:1 i:1)= 1) (())\n",
        "  if (fatorial == 0): #evita que ocorra 0 x 0, 0 x 1, 0 x 2...\n",
        "    fatorial = 1\n",
        "  print('fatorial de',i,'! =', fatorial)\n",
        "\n",
        "print('-=-' * 15)\n",
        "\n",
        "fatorial = 1\n",
        "i = 0\n",
        "\n",
        "#estrutura de condicional\n",
        "while i <= n: #ele faz enquanto a constatação for verdadeiro \n",
        "  print('fatorial de',i,'! =', fatorial)\n",
        "  i += 1 #depois do print pois, ele tem que começar com 0\n",
        "  fatorial *= i\n",
        "print('-=-' * 15)"
      ],
      "metadata": {
        "colab": {
          "base_uri": "https://localhost:8080/"
        },
        "id": "yM-NLj6RZdH1",
        "outputId": "1e900198-31e0-4ada-e0d7-f08559c49785"
      },
      "execution_count": null,
      "outputs": [
        {
          "output_type": "stream",
          "name": "stdout",
          "text": [
            "-=--=--=--=--=--=--=--=--=--=--=--=--=--=--=--=--=--=--=--=--=--=--=--=--=--=--=--=--=--=-\n",
            "Informe um número INTEIRO para extrairmos seu fatorial: 10\n",
            "-=--=--=--=--=--=--=--=--=--=--=--=--=--=--=--=--=--=--=--=--=--=--=--=--=--=--=--=--=--=-\n",
            "fatorial de 0 ! = 1\n",
            "fatorial de 1 ! = 1\n",
            "fatorial de 2 ! = 2\n",
            "fatorial de 3 ! = 6\n",
            "fatorial de 4 ! = 24\n",
            "fatorial de 5 ! = 120\n",
            "fatorial de 6 ! = 720\n",
            "fatorial de 7 ! = 5040\n",
            "fatorial de 8 ! = 40320\n",
            "fatorial de 9 ! = 362880\n",
            "fatorial de 10 ! = 3628800\n",
            "-=--=--=--=--=--=--=--=--=--=--=--=--=--=--=-\n",
            "fatorial de 0 ! = 1\n",
            "fatorial de 1 ! = 1\n",
            "fatorial de 2 ! = 2\n",
            "fatorial de 3 ! = 6\n",
            "fatorial de 4 ! = 24\n",
            "fatorial de 5 ! = 120\n",
            "fatorial de 6 ! = 720\n",
            "fatorial de 7 ! = 5040\n",
            "fatorial de 8 ! = 40320\n",
            "fatorial de 9 ! = 362880\n",
            "fatorial de 10 ! = 3628800\n",
            "-=--=--=--=--=--=--=--=--=--=--=--=--=--=--=-\n"
          ]
        }
      ]
    },
    {
      "cell_type": "code",
      "source": [
        "#5.Desenvolva um programa que imprima na tela uma sequência com os “n” primeiros números\n",
        "#fracionários múltiplos de 0,5 iniciando em 1,5. Peça para o usuário informar o valor de “n” antes\n",
        "#de gerar a sequência.\n",
        "#Ex: “n” = 5; sequência = 1,5 2,0 2,5 3,0 3,5\n",
        "\n",
        "#estrutura contada \n",
        "print('-=-' * 30)\n",
        "n = int(input('Informe um número FRACIONÁRIO multiplos de 0,5 para extrairmos seu fatorial: '))\n",
        "print('-=-' * 30)\n",
        "fatorial = 1.5\n",
        "\n",
        "for i in range(1,n + 1):\n",
        "  print(i,'º fatorial fracionário: ', fatorial)\n",
        "  fatorial += 0.5 \n",
        "\n",
        "#estrutura condicional\n",
        "print('-=-' * 15)\n",
        "fatorial = 1.5\n",
        "i = 0\n",
        "while i < n:\n",
        "  i += 1\n",
        "  print(i,'º fatorial fracionário: ', fatorial)\n",
        "  fatorial += 0.5\n"
      ],
      "metadata": {
        "id": "JfWWFlsXqvLg",
        "colab": {
          "base_uri": "https://localhost:8080/"
        },
        "outputId": "bfcadede-60d7-46fd-b99b-3c9cf3c888a2"
      },
      "execution_count": null,
      "outputs": [
        {
          "output_type": "stream",
          "name": "stdout",
          "text": [
            "-=--=--=--=--=--=--=--=--=--=--=--=--=--=--=--=--=--=--=--=--=--=--=--=--=--=--=--=--=--=-\n",
            "Informe um número FRACIONÁRIO multiplos de 0,5 para extrairmos seu fatorial: 10\n",
            "-=--=--=--=--=--=--=--=--=--=--=--=--=--=--=--=--=--=--=--=--=--=--=--=--=--=--=--=--=--=-\n",
            "1 º fatorial fracionário:  1.5\n",
            "2 º fatorial fracionário:  2.0\n",
            "3 º fatorial fracionário:  2.5\n",
            "4 º fatorial fracionário:  3.0\n",
            "5 º fatorial fracionário:  3.5\n",
            "6 º fatorial fracionário:  4.0\n",
            "7 º fatorial fracionário:  4.5\n",
            "8 º fatorial fracionário:  5.0\n",
            "9 º fatorial fracionário:  5.5\n",
            "10 º fatorial fracionário:  6.0\n",
            "-=--=--=--=--=--=--=--=--=--=--=--=--=--=--=-\n",
            "1 º fatorial fracionário:  1.5\n",
            "2 º fatorial fracionário:  2.0\n",
            "3 º fatorial fracionário:  2.5\n",
            "4 º fatorial fracionário:  3.0\n",
            "5 º fatorial fracionário:  3.5\n",
            "6 º fatorial fracionário:  4.0\n",
            "7 º fatorial fracionário:  4.5\n",
            "8 º fatorial fracionário:  5.0\n",
            "9 º fatorial fracionário:  5.5\n",
            "10 º fatorial fracionário:  6.0\n"
          ]
        }
      ]
    },
    {
      "cell_type": "code",
      "source": [
        "#6. Desenvolva um programa que imprima na tela uma sequência com os “n” primeiros números\n",
        "#fracionários com passo “p” iniciando em um número “i”. Peça para o usuário informar os valores\n",
        "#de “n”, “p” e “i” antes de gerar a sequência.\n",
        "#Ex: “n” = 6, “p” = 0,3 e “i” = -1; sequência = -1,0 -0,7 -0,4 -0,1 0,2 0,5\n",
        "\n",
        "#estrutura contada\n",
        "print('-=-' * 30)\n",
        "n =int(input('Informe a quantidade de números que você quer. pronto! '))\n",
        "p =float(input('Informe o passo, é isso ai pô: '))\n",
        "i =int(input('Informe o número inicial, rapaiz: '))\n",
        "print('-=-' * 30)\n",
        "\n",
        "p *= 10\n",
        "i *= 10\n",
        "\n",
        "for count, x in enumerate(range(i,n,int(p))): #depois que starta n volta o valor para comparar, ele da uma ordem de fazer \n",
        "  print(count + 1,'º:',x/10)\n",
        "print('-=-' * 15)\n",
        "\n",
        "#estrutura condicional\n",
        "p /= 10\n",
        "i /= 10\n",
        "\n",
        "y = 0\n",
        "while n > y:\n",
        "    print(f'{y}º: {round(i,1)}')\n",
        "    i += p\n",
        "    y += 1\n",
        "print('-=-' * 15)"
      ],
      "metadata": {
        "id": "JcxZkQjcvb3n",
        "colab": {
          "base_uri": "https://localhost:8080/"
        },
        "outputId": "1fecbde1-e1f2-42c1-9d76-8e6faa270496"
      },
      "execution_count": null,
      "outputs": [
        {
          "output_type": "stream",
          "name": "stdout",
          "text": [
            "-=--=--=--=--=--=--=--=--=--=--=--=--=--=--=--=--=--=--=--=--=--=--=--=--=--=--=--=--=--=-\n",
            "Informe a quantidade de números que você quer. pronto!6\n",
            "Informe o passo, é isso ai pô:0.3\n",
            "Informe o número inicial, rapaiz:-1\n",
            "-=--=--=--=--=--=--=--=--=--=--=--=--=--=--=--=--=--=--=--=--=--=--=--=--=--=--=--=--=--=-\n",
            "1 º: -1.0\n",
            "2 º: -0.7\n",
            "3 º: -0.4\n",
            "4 º: -0.1\n",
            "5 º: 0.2\n",
            "6 º: 0.5\n",
            "-=--=--=--=--=--=--=--=--=--=--=--=--=--=--=-\n",
            "0º:-1.0\n",
            "1º:-0.7\n",
            "2º:-0.4\n",
            "3º:-0.1\n",
            "4º:0.2\n",
            "5º:0.5\n",
            "-=--=--=--=--=--=--=--=--=--=--=--=--=--=--=-\n"
          ]
        }
      ]
    },
    {
      "cell_type": "code",
      "source": [
        "#7. Desenvolva um programa que solicite uma quantidade indeterminada de números positivos ao\n",
        "#usuário, e ao digitar o número zero, calcule e informe:\n",
        "#– A quantidade de números digitados\n",
        "#– A quantidade de pares\n",
        "#– A quantidade de ímpares\n",
        "#– A soma destes números\n",
        "#– A média aritmética\n",
        "#– O maior número\n",
        "#– O menor número\n",
        "\n",
        "verificador = 1\n",
        "n_list = []\n",
        "n_list_imp = []\n",
        "n_list_par = []\n",
        "while verificador != 0:\n",
        "  print('-=-' * 30)\n",
        "  n = int(input('Informe um número positivo:'))\n",
        "  if n != 0 and n > 0: #caso eu erre a lógica o programa funciona mesmo assim... Cuidado!\n",
        "    print('Para sair informe 0.')\n",
        "    n_list.append(n)\n",
        "    if n%2==1: #verifica se é impar\n",
        "      n_list_imp.append(n)\n",
        "      print('impar')\n",
        "    else: #o resto vai ser par\n",
        "      n_list_par.append(n)\n",
        "      print('par')\n",
        "  else:\n",
        "    print('-=-' * 30)\n",
        "    verificador -= 1\n",
        "\n",
        "print(f'Quantidade de números digitados: {len(n_list)}')\n",
        "print(f'Quantidade de pares: {len(n_list_par)}')\n",
        "print(f'Quantidade de ímpares: {len(n_list_imp)}')\n",
        "print(f'A soma destes números: {sum(n_list)}')\n",
        "print(f'A média aritmética: {sum(n_list)/len(n_list)}')\n",
        "print(f'O maior número: {max(n_list)}')\n",
        "print(f'O menor número: {min(n_list)}')\n",
        "print(n_list)"
      ],
      "metadata": {
        "colab": {
          "base_uri": "https://localhost:8080/"
        },
        "id": "18vZj6YEqmUl",
        "outputId": "1ec54b8b-bba0-4886-c5d7-1c93ff628b34"
      },
      "execution_count": null,
      "outputs": [
        {
          "output_type": "stream",
          "name": "stdout",
          "text": [
            "-=--=--=--=--=--=--=--=--=--=--=--=--=--=--=--=--=--=--=--=--=--=--=--=--=--=--=--=--=--=-\n",
            "Informe um número positivo:10\n",
            "Para sair informe 0.\n",
            "par\n",
            "-=--=--=--=--=--=--=--=--=--=--=--=--=--=--=--=--=--=--=--=--=--=--=--=--=--=--=--=--=--=-\n",
            "Informe um número positivo:20\n",
            "Para sair informe 0.\n",
            "par\n",
            "-=--=--=--=--=--=--=--=--=--=--=--=--=--=--=--=--=--=--=--=--=--=--=--=--=--=--=--=--=--=-\n",
            "Informe um número positivo:30\n",
            "Para sair informe 0.\n",
            "par\n",
            "-=--=--=--=--=--=--=--=--=--=--=--=--=--=--=--=--=--=--=--=--=--=--=--=--=--=--=--=--=--=-\n",
            "Informe um número positivo:04\n",
            "Para sair informe 0.\n",
            "par\n",
            "-=--=--=--=--=--=--=--=--=--=--=--=--=--=--=--=--=--=--=--=--=--=--=--=--=--=--=--=--=--=-\n",
            "Informe um número positivo:0\n",
            "-=--=--=--=--=--=--=--=--=--=--=--=--=--=--=--=--=--=--=--=--=--=--=--=--=--=--=--=--=--=-\n",
            "Quantidade de números digitados: 4\n",
            "Quantidade de pares: 4\n",
            "Quantidade de ímpares: 0\n",
            "A soma destes números: 64\n",
            "A média aritmética: 16.0\n",
            "O maior número: 30\n",
            "O menor número: 4\n",
            "[10, 20, 30, 4]\n"
          ]
        }
      ]
    },
    {
      "cell_type": "code",
      "source": [
        "#8. Desenvolva um programa que imprima na tela a seguinte forma:\n",
        "#* * * * *\n",
        "#* * * * *\n",
        "#* * * * *\n",
        "#* * * * *\n",
        "#* * * * *\n",
        "#Obs.: Utilizando laços e estruturas de controle;\n",
        "\n",
        "for i in range(0,5):\n",
        "  str = '* '*5\n",
        "  print(str[0:-1])\n",
        "\n",
        "print('-=-' * 15)\n",
        "x = 5\n",
        "while x > 0:\n",
        "  x -= 1\n",
        "  str = '* '*5\n",
        "  print(str[0:-1])\n",
        "\n"
      ],
      "metadata": {
        "colab": {
          "base_uri": "https://localhost:8080/"
        },
        "id": "pn5mH4iw0atD",
        "outputId": "01778228-5fbe-4349-9e56-2c056df4235e"
      },
      "execution_count": null,
      "outputs": [
        {
          "output_type": "stream",
          "name": "stdout",
          "text": [
            "* * * * *\n",
            "* * * * *\n",
            "* * * * *\n",
            "* * * * *\n",
            "* * * * *\n",
            "-=--=--=--=--=--=--=--=--=--=--=--=--=--=--=-\n",
            "* * * * *\n",
            "* * * * *\n",
            "* * * * *\n",
            "* * * * *\n",
            "* * * * *\n"
          ]
        }
      ]
    },
    {
      "cell_type": "code",
      "source": [
        "#9. Desenvolva um programa que imprima na tela a seguinte forma:\n",
        "#*\n",
        "#* *\n",
        "#* * *\n",
        "#* * * *\n",
        "#* * * * *\n",
        "#Obs.: Utilizando laços e estruturas de controle;\n",
        "\n",
        "\n",
        "for i in range(1,6):\n",
        "  str1 = '* '\n",
        "  str1 *= i\n",
        "  print(str1[0:-1])\n",
        "\n",
        "print('-=-' * 15)\n",
        "\n",
        "x = 0\n",
        "while x < 5:\n",
        "  x += 1\n",
        "  str = '* '* x\n",
        "  print(str[0:-1])"
      ],
      "metadata": {
        "colab": {
          "base_uri": "https://localhost:8080/"
        },
        "id": "PUdZwUgk3ExF",
        "outputId": "40d766d5-bab4-4ecd-86b6-3b7829d9f76c"
      },
      "execution_count": null,
      "outputs": [
        {
          "output_type": "stream",
          "name": "stdout",
          "text": [
            "*\n",
            "* *\n",
            "* * *\n",
            "* * * *\n",
            "* * * * *\n",
            "-=--=--=--=--=--=--=--=--=--=--=--=--=--=--=-\n",
            "*\n",
            "* *\n",
            "* * *\n",
            "* * * *\n",
            "* * * * *\n"
          ]
        }
      ]
    },
    {
      "cell_type": "code",
      "source": [
        "#10. Desenvolva um programa que imprima na tela a seguinte forma:\n",
        "#* * * * *\n",
        "#* * * *\n",
        "#* * *\n",
        "#* *\n",
        "#*\n",
        "#Obs.: Utilizando laços e estruturas de controle;\n",
        "\n",
        "for i in range(5,0,-1):\n",
        "  str1 = '* '\n",
        "  str1 *= i\n",
        "  print(str1[0:-1])\n",
        "\n",
        "print('-=-' * 15)\n",
        "\n",
        "x = 6\n",
        "while x > 0:\n",
        "  x -= 1\n",
        "  str = '* '* x\n",
        "  print(str[0:-1])\n"
      ],
      "metadata": {
        "colab": {
          "base_uri": "https://localhost:8080/"
        },
        "id": "vbvvxn9p5hZj",
        "outputId": "747ef086-7120-4351-f96c-e81f8bcfcda3"
      },
      "execution_count": null,
      "outputs": [
        {
          "output_type": "stream",
          "name": "stdout",
          "text": [
            "* * * * *\n",
            "* * * *\n",
            "* * *\n",
            "* *\n",
            "*\n",
            "-=--=--=--=--=--=--=--=--=--=--=--=--=--=--=-\n",
            "* * * * *\n",
            "* * * *\n",
            "* * *\n",
            "* *\n",
            "*\n",
            "\n"
          ]
        }
      ]
    }
  ]
}